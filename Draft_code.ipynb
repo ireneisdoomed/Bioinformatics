{
 "cells": [
  {
   "cell_type": "code",
   "execution_count": 1,
   "metadata": {},
   "outputs": [],
   "source": [
    "import pandas as pd\n",
    "import numpy as np\n",
    "\n",
    "%matplotlib inline\n",
    "import seaborn as sns\n",
    "import matplotlib.pyplot as plt\n",
    "\n",
    "from Bio import Seq\n",
    "from Bio.Alphabet import IUPAC\n",
    "\n",
    "# bibliografía: https://www.ncbi.nlm.nih.gov/pmc/articles/PMC5440218/"
   ]
  },
  {
   "cell_type": "markdown",
   "metadata": {},
   "source": [
    "## 0. Basic EDA"
   ]
  },
  {
   "cell_type": "code",
   "execution_count": 2,
   "metadata": {},
   "outputs": [
    {
     "data": {
      "text/html": [
       "<div>\n",
       "<style scoped>\n",
       "    .dataframe tbody tr th:only-of-type {\n",
       "        vertical-align: middle;\n",
       "    }\n",
       "\n",
       "    .dataframe tbody tr th {\n",
       "        vertical-align: top;\n",
       "    }\n",
       "\n",
       "    .dataframe thead th {\n",
       "        text-align: right;\n",
       "    }\n",
       "</style>\n",
       "<table border=\"1\" class=\"dataframe\">\n",
       "  <thead>\n",
       "    <tr style=\"text-align: right;\">\n",
       "      <th></th>\n",
       "      <th>Unnamed: 0</th>\n",
       "      <th>read_count_in_input_library</th>\n",
       "      <th>read_count_in_output_library</th>\n",
       "    </tr>\n",
       "  </thead>\n",
       "  <tbody>\n",
       "    <tr>\n",
       "      <th>0</th>\n",
       "      <td>AAAAAAAAGGGCGGGGAGCTGAGCATAGGGATAGTGCCCGTCCTGA...</td>\n",
       "      <td>0.0</td>\n",
       "      <td>1.0</td>\n",
       "    </tr>\n",
       "    <tr>\n",
       "      <th>1</th>\n",
       "      <td>AAAAACAAGGGCCAGGAGCTGTTCATCGGGATCGTGCCCGTCCTGA...</td>\n",
       "      <td>1.0</td>\n",
       "      <td>0.0</td>\n",
       "    </tr>\n",
       "    <tr>\n",
       "      <th>2</th>\n",
       "      <td>AAAACCAAGGGCGAGGAGCTGCGCATCGTGATCGTGCCAGTCCTAA...</td>\n",
       "      <td>1.0</td>\n",
       "      <td>0.0</td>\n",
       "    </tr>\n",
       "    <tr>\n",
       "      <th>3</th>\n",
       "      <td>AAAACCAAGGGCGTGGAGCTTCCGATCGGGATCGTGCCCGTCCTGA...</td>\n",
       "      <td>1.0</td>\n",
       "      <td>0.0</td>\n",
       "    </tr>\n",
       "    <tr>\n",
       "      <th>4</th>\n",
       "      <td>AAAACCATGGGCGAGGACCTGCGGATCGGGGCCGTGCCCGGCCTGA...</td>\n",
       "      <td>1.0</td>\n",
       "      <td>0.0</td>\n",
       "    </tr>\n",
       "  </tbody>\n",
       "</table>\n",
       "</div>"
      ],
      "text/plain": [
       "                                          Unnamed: 0  \\\n",
       "0  AAAAAAAAGGGCGGGGAGCTGAGCATAGGGATAGTGCCCGTCCTGA...   \n",
       "1  AAAAACAAGGGCCAGGAGCTGTTCATCGGGATCGTGCCCGTCCTGA...   \n",
       "2  AAAACCAAGGGCGAGGAGCTGCGCATCGTGATCGTGCCAGTCCTAA...   \n",
       "3  AAAACCAAGGGCGTGGAGCTTCCGATCGGGATCGTGCCCGTCCTGA...   \n",
       "4  AAAACCATGGGCGAGGACCTGCGGATCGGGGCCGTGCCCGGCCTGA...   \n",
       "\n",
       "   read_count_in_input_library  read_count_in_output_library  \n",
       "0                          0.0                           1.0  \n",
       "1                          1.0                           0.0  \n",
       "2                          1.0                           0.0  \n",
       "3                          1.0                           0.0  \n",
       "4                          1.0                           0.0  "
      ]
     },
     "execution_count": 2,
     "metadata": {},
     "output_type": "execute_result"
    }
   ],
   "source": [
    "data = pd.read_csv(\"sequence_table.csv\", encoding=\"utf-8\")\n",
    "\n",
    "data.head()"
   ]
  },
  {
   "cell_type": "code",
   "execution_count": 3,
   "metadata": {},
   "outputs": [
    {
     "data": {
      "text/html": [
       "<div>\n",
       "<style scoped>\n",
       "    .dataframe tbody tr th:only-of-type {\n",
       "        vertical-align: middle;\n",
       "    }\n",
       "\n",
       "    .dataframe tbody tr th {\n",
       "        vertical-align: top;\n",
       "    }\n",
       "\n",
       "    .dataframe thead th {\n",
       "        text-align: right;\n",
       "    }\n",
       "</style>\n",
       "<table border=\"1\" class=\"dataframe\">\n",
       "  <thead>\n",
       "    <tr style=\"text-align: right;\">\n",
       "      <th></th>\n",
       "      <th>sequence</th>\n",
       "      <th>read_count_in_input_library</th>\n",
       "      <th>read_count_in_output_library</th>\n",
       "    </tr>\n",
       "  </thead>\n",
       "  <tbody>\n",
       "    <tr>\n",
       "      <th>0</th>\n",
       "      <td>AAAAAAAAGGGCGGGGAGCTGAGCATAGGGATAGTGCCCGTCCTGA...</td>\n",
       "      <td>0.0</td>\n",
       "      <td>1.0</td>\n",
       "    </tr>\n",
       "    <tr>\n",
       "      <th>1</th>\n",
       "      <td>AAAAACAAGGGCCAGGAGCTGTTCATCGGGATCGTGCCCGTCCTGA...</td>\n",
       "      <td>1.0</td>\n",
       "      <td>0.0</td>\n",
       "    </tr>\n",
       "    <tr>\n",
       "      <th>2</th>\n",
       "      <td>AAAACCAAGGGCGAGGAGCTGCGCATCGTGATCGTGCCAGTCCTAA...</td>\n",
       "      <td>1.0</td>\n",
       "      <td>0.0</td>\n",
       "    </tr>\n",
       "    <tr>\n",
       "      <th>3</th>\n",
       "      <td>AAAACCAAGGGCGTGGAGCTTCCGATCGGGATCGTGCCCGTCCTGA...</td>\n",
       "      <td>1.0</td>\n",
       "      <td>0.0</td>\n",
       "    </tr>\n",
       "    <tr>\n",
       "      <th>4</th>\n",
       "      <td>AAAACCATGGGCGAGGACCTGCGGATCGGGGCCGTGCCCGGCCTGA...</td>\n",
       "      <td>1.0</td>\n",
       "      <td>0.0</td>\n",
       "    </tr>\n",
       "  </tbody>\n",
       "</table>\n",
       "</div>"
      ],
      "text/plain": [
       "                                            sequence  \\\n",
       "0  AAAAAAAAGGGCGGGGAGCTGAGCATAGGGATAGTGCCCGTCCTGA...   \n",
       "1  AAAAACAAGGGCCAGGAGCTGTTCATCGGGATCGTGCCCGTCCTGA...   \n",
       "2  AAAACCAAGGGCGAGGAGCTGCGCATCGTGATCGTGCCAGTCCTAA...   \n",
       "3  AAAACCAAGGGCGTGGAGCTTCCGATCGGGATCGTGCCCGTCCTGA...   \n",
       "4  AAAACCATGGGCGAGGACCTGCGGATCGGGGCCGTGCCCGGCCTGA...   \n",
       "\n",
       "   read_count_in_input_library  read_count_in_output_library  \n",
       "0                          0.0                           1.0  \n",
       "1                          1.0                           0.0  \n",
       "2                          1.0                           0.0  \n",
       "3                          1.0                           0.0  \n",
       "4                          1.0                           0.0  "
      ]
     },
     "execution_count": 3,
     "metadata": {},
     "output_type": "execute_result"
    }
   ],
   "source": [
    "data.rename(columns={\"Unnamed: 0\": \"sequence\"}, inplace=True)\n",
    "\n",
    "data.head()"
   ]
  },
  {
   "cell_type": "code",
   "execution_count": 4,
   "metadata": {},
   "outputs": [
    {
     "name": "stdout",
     "output_type": "stream",
     "text": [
      "There are 174025 reads. 0 of them are repeated.\n"
     ]
    },
    {
     "data": {
      "text/html": [
       "<div>\n",
       "<style scoped>\n",
       "    .dataframe tbody tr th:only-of-type {\n",
       "        vertical-align: middle;\n",
       "    }\n",
       "\n",
       "    .dataframe tbody tr th {\n",
       "        vertical-align: top;\n",
       "    }\n",
       "\n",
       "    .dataframe thead th {\n",
       "        text-align: right;\n",
       "    }\n",
       "</style>\n",
       "<table border=\"1\" class=\"dataframe\">\n",
       "  <thead>\n",
       "    <tr style=\"text-align: right;\">\n",
       "      <th></th>\n",
       "      <th>read_count_in_input_library</th>\n",
       "      <th>read_count_in_output_library</th>\n",
       "    </tr>\n",
       "  </thead>\n",
       "  <tbody>\n",
       "    <tr>\n",
       "      <th>count</th>\n",
       "      <td>174025.000000</td>\n",
       "      <td>174025.000000</td>\n",
       "    </tr>\n",
       "    <tr>\n",
       "      <th>mean</th>\n",
       "      <td>6.332584</td>\n",
       "      <td>3.162344</td>\n",
       "    </tr>\n",
       "    <tr>\n",
       "      <th>std</th>\n",
       "      <td>51.371721</td>\n",
       "      <td>31.424681</td>\n",
       "    </tr>\n",
       "    <tr>\n",
       "      <th>min</th>\n",
       "      <td>0.000000</td>\n",
       "      <td>0.000000</td>\n",
       "    </tr>\n",
       "    <tr>\n",
       "      <th>25%</th>\n",
       "      <td>0.000000</td>\n",
       "      <td>0.000000</td>\n",
       "    </tr>\n",
       "    <tr>\n",
       "      <th>50%</th>\n",
       "      <td>1.000000</td>\n",
       "      <td>0.000000</td>\n",
       "    </tr>\n",
       "    <tr>\n",
       "      <th>75%</th>\n",
       "      <td>1.000000</td>\n",
       "      <td>1.000000</td>\n",
       "    </tr>\n",
       "    <tr>\n",
       "      <th>max</th>\n",
       "      <td>3160.000000</td>\n",
       "      <td>2055.000000</td>\n",
       "    </tr>\n",
       "  </tbody>\n",
       "</table>\n",
       "</div>"
      ],
      "text/plain": [
       "       read_count_in_input_library  read_count_in_output_library\n",
       "count                174025.000000                 174025.000000\n",
       "mean                      6.332584                      3.162344\n",
       "std                      51.371721                     31.424681\n",
       "min                       0.000000                      0.000000\n",
       "25%                       0.000000                      0.000000\n",
       "50%                       1.000000                      0.000000\n",
       "75%                       1.000000                      1.000000\n",
       "max                    3160.000000                   2055.000000"
      ]
     },
     "execution_count": 4,
     "metadata": {},
     "output_type": "execute_result"
    }
   ],
   "source": [
    "print(f\"There are {data.shape[0]} reads. {data.shape[0] - data.sequence.value_counts().sum()} of them are repeated.\")\n",
    "\n",
    "data.describe()"
   ]
  },
  {
   "cell_type": "code",
   "execution_count": 5,
   "metadata": {},
   "outputs": [
    {
     "name": "stdout",
     "output_type": "stream",
     "text": [
      "NaN values: \n",
      "sequence                        0\n",
      "read_count_in_input_library     0\n",
      "read_count_in_output_library    0\n",
      "dtype: int64\n",
      "\n",
      "0 duplicates found.\n"
     ]
    }
   ],
   "source": [
    "# Checking for NaN values \n",
    "\n",
    "print(f\"NaN values: \\n{data.isna().sum()}\")\n",
    "print(\"\")\n",
    "print(f\"{data.duplicated().sum()} duplicates found.\")"
   ]
  },
  {
   "cell_type": "markdown",
   "metadata": {},
   "source": [
    "## 1. What's in sequence column?"
   ]
  },
  {
   "cell_type": "code",
   "execution_count": 6,
   "metadata": {},
   "outputs": [
    {
     "data": {
      "text/plain": [
       "True"
      ]
     },
     "execution_count": 6,
     "metadata": {},
     "output_type": "execute_result"
    }
   ],
   "source": [
    "ref_library = \"ATGAGCAAGGGCGAGGAGCTGNNSATCGGGATCGTGCCCGTCCTGATTGAGNNSGACGGCGACGTACACGGCCACAAGTTCAGCGTGCGCGGCGAGNNSGAGGGCGATGCCGACTACGGCAAGCTGGAG\"\n",
    "\n",
    "len(ref_library) == len(data.sequence[0])"
   ]
  },
  {
   "cell_type": "code",
   "execution_count": 7,
   "metadata": {},
   "outputs": [
    {
     "data": {
      "text/plain": [
       "129    172973\n",
       "132       201\n",
       "130       187\n",
       "131       180\n",
       "127       176\n",
       "126       171\n",
       "128       137\n",
       "Name: length, dtype: int64"
      ]
     },
     "execution_count": 7,
     "metadata": {},
     "output_type": "execute_result"
    }
   ],
   "source": [
    "data[\"length\"] = data[\"sequence\"].apply(lambda X: len(X))\n",
    "\n",
    "data[\"length\"].value_counts()"
   ]
  },
  {
   "cell_type": "markdown",
   "metadata": {},
   "source": [
    "### 1.1 Translating the sequence"
   ]
  },
  {
   "cell_type": "code",
   "execution_count": 8,
   "metadata": {},
   "outputs": [],
   "source": [
    "from Bio import Seq\n",
    "from Bio.Alphabet import IUPAC\n",
    "\n",
    "def DNA2Prot(X):\n",
    "    try:\n",
    "        seq = Seq.Seq(X, IUPAC.unambiguous_dna)\n",
    "        rna = seq.transcribe()\n",
    "        prot = rna.translate()\n",
    "        return str(prot)\n",
    "    except Exception:\n",
    "        return \"\""
   ]
  },
  {
   "cell_type": "code",
   "execution_count": 9,
   "metadata": {},
   "outputs": [
    {
     "name": "stderr",
     "output_type": "stream",
     "text": [
      "/usr/local/lib/python3.8/site-packages/Bio/Seq.py:2738: BiopythonWarning: Partial codon, len(sequence) not a multiple of three. Explicitly trim the sequence or add trailing N before translation. This may become an error in future.\n",
      "  warnings.warn(\n"
     ]
    }
   ],
   "source": [
    "data[\"prot\"] = data[\"sequence\"].apply(lambda X: DNA2Prot(X))"
   ]
  },
  {
   "cell_type": "code",
   "execution_count": 10,
   "metadata": {},
   "outputs": [
    {
     "data": {
      "text/html": [
       "<div>\n",
       "<style scoped>\n",
       "    .dataframe tbody tr th:only-of-type {\n",
       "        vertical-align: middle;\n",
       "    }\n",
       "\n",
       "    .dataframe tbody tr th {\n",
       "        vertical-align: top;\n",
       "    }\n",
       "\n",
       "    .dataframe thead th {\n",
       "        text-align: right;\n",
       "    }\n",
       "</style>\n",
       "<table border=\"1\" class=\"dataframe\">\n",
       "  <thead>\n",
       "    <tr style=\"text-align: right;\">\n",
       "      <th></th>\n",
       "      <th>sequence</th>\n",
       "      <th>read_count_in_input_library</th>\n",
       "      <th>read_count_in_output_library</th>\n",
       "      <th>length</th>\n",
       "      <th>prot</th>\n",
       "    </tr>\n",
       "  </thead>\n",
       "  <tbody>\n",
       "    <tr>\n",
       "      <th>0</th>\n",
       "      <td>AAAAAAAAGGGCGGGGAGCTGAGCATAGGGATAGTGCCCGTCCTGA...</td>\n",
       "      <td>0.0</td>\n",
       "      <td>1.0</td>\n",
       "      <td>129</td>\n",
       "      <td>KKKGGELSIGIVPVLIEAEGDGHVHKFTVRGDSKGDAEKCKLE</td>\n",
       "    </tr>\n",
       "    <tr>\n",
       "      <th>1</th>\n",
       "      <td>AAAAACAAGGGCCAGGAGCTGTTCATCGGGATCGTGCCCGTCCTGA...</td>\n",
       "      <td>1.0</td>\n",
       "      <td>0.0</td>\n",
       "      <td>129</td>\n",
       "      <td>KNKGQELFIGIVPVLIELDGDVHGHKFSVRGEIEGAVDYGKLE</td>\n",
       "    </tr>\n",
       "    <tr>\n",
       "      <th>2</th>\n",
       "      <td>AAAACCAAGGGCGAGGAGCTGCGCATCGTGATCGTGCCAGTCCTAA...</td>\n",
       "      <td>1.0</td>\n",
       "      <td>0.0</td>\n",
       "      <td>129</td>\n",
       "      <td>KTKGEELRIVIVPVLIECNGIVHGHRFSGHDEGEGDPDYDKLE</td>\n",
       "    </tr>\n",
       "    <tr>\n",
       "      <th>3</th>\n",
       "      <td>AAAACCAAGGGCGTGGAGCTTCCGATCGGGATCGTGCCCGTCCTGA...</td>\n",
       "      <td>1.0</td>\n",
       "      <td>0.0</td>\n",
       "      <td>129</td>\n",
       "      <td>KTKGVELPIGIVPVLIGFDGVVLGHNFSVRAECVGDADYGKLE</td>\n",
       "    </tr>\n",
       "    <tr>\n",
       "      <th>4</th>\n",
       "      <td>AAAACCATGGGCGAGGACCTGCGGATCGGGGCCGTGCCCGGCCTGA...</td>\n",
       "      <td>1.0</td>\n",
       "      <td>0.0</td>\n",
       "      <td>129</td>\n",
       "      <td>KTMGEDLRIGAVPGLIEDDGDVHGHQSSVRSEGEGDGYYGNLE</td>\n",
       "    </tr>\n",
       "  </tbody>\n",
       "</table>\n",
       "</div>"
      ],
      "text/plain": [
       "                                            sequence  \\\n",
       "0  AAAAAAAAGGGCGGGGAGCTGAGCATAGGGATAGTGCCCGTCCTGA...   \n",
       "1  AAAAACAAGGGCCAGGAGCTGTTCATCGGGATCGTGCCCGTCCTGA...   \n",
       "2  AAAACCAAGGGCGAGGAGCTGCGCATCGTGATCGTGCCAGTCCTAA...   \n",
       "3  AAAACCAAGGGCGTGGAGCTTCCGATCGGGATCGTGCCCGTCCTGA...   \n",
       "4  AAAACCATGGGCGAGGACCTGCGGATCGGGGCCGTGCCCGGCCTGA...   \n",
       "\n",
       "   read_count_in_input_library  read_count_in_output_library  length  \\\n",
       "0                          0.0                           1.0     129   \n",
       "1                          1.0                           0.0     129   \n",
       "2                          1.0                           0.0     129   \n",
       "3                          1.0                           0.0     129   \n",
       "4                          1.0                           0.0     129   \n",
       "\n",
       "                                          prot  \n",
       "0  KKKGGELSIGIVPVLIEAEGDGHVHKFTVRGDSKGDAEKCKLE  \n",
       "1  KNKGQELFIGIVPVLIELDGDVHGHKFSVRGEIEGAVDYGKLE  \n",
       "2  KTKGEELRIVIVPVLIECNGIVHGHRFSGHDEGEGDPDYDKLE  \n",
       "3  KTKGVELPIGIVPVLIGFDGVVLGHNFSVRAECVGDADYGKLE  \n",
       "4  KTMGEDLRIGAVPGLIEDDGDVHGHQSSVRSEGEGDGYYGNLE  "
      ]
     },
     "execution_count": 10,
     "metadata": {},
     "output_type": "execute_result"
    }
   ],
   "source": [
    "data.head()"
   ]
  },
  {
   "cell_type": "markdown",
   "metadata": {},
   "source": [
    "## 2. What's in the other columns?"
   ]
  },
  {
   "cell_type": "code",
   "execution_count": 11,
   "metadata": {},
   "outputs": [
    {
     "data": {
      "text/plain": [
       "array([[<AxesSubplot:title={'center':'length'}>,\n",
       "        <AxesSubplot:title={'center':'read_count_in_input_library'}>],\n",
       "       [<AxesSubplot:title={'center':'read_count_in_output_library'}>,\n",
       "        <AxesSubplot:>]], dtype=object)"
      ]
     },
     "execution_count": 11,
     "metadata": {},
     "output_type": "execute_result"
    },
    {
     "data": {
      "image/png": "[encoded data removed]",
      "text/plain": [
       "<Figure size 432x288 with 4 Axes>"
      ]
     },
     "metadata": {
      "needs_background": "light"
     },
     "output_type": "display_data"
    }
   ],
   "source": [
    "data.hist()"
   ]
  },
  {
   "cell_type": "code",
   "execution_count": 12,
   "metadata": {},
   "outputs": [
    {
     "data": {
      "text/plain": [
       "''"
      ]
     },
     "execution_count": 12,
     "metadata": {},
     "output_type": "execute_result"
    },
    {
     "data": {
      "image/png": "[encoded data removed]",
      "text/plain": [
       "<Figure size 1152x648 with 1 Axes>"
      ]
     },
     "metadata": {
      "needs_background": "light"
     },
     "output_type": "display_data"
    }
   ],
   "source": [
    "# Numerical columns are highly skewed\n",
    "\n",
    "plt.figure(figsize=(16,9))\n",
    "\n",
    "sns.distplot(data[\"read_count_in_input_library\"])\n",
    "sns.distplot(data[\"read_count_in_output_library\"])\n",
    "plt.title('Distribution of read counts')\n",
    ";"
   ]
  },
  {
   "cell_type": "code",
   "execution_count": 13,
   "metadata": {},
   "outputs": [
    {
     "data": {
      "text/plain": [
       "''"
      ]
     },
     "execution_count": 13,
     "metadata": {},
     "output_type": "execute_result"
    },
    {
     "data": {
      "image/png": "[encoded data removed]",
      "text/plain": [
       "<Figure size 1152x648 with 1 Axes>"
      ]
     },
     "metadata": {
      "needs_background": "light"
     },
     "output_type": "display_data"
    }
   ],
   "source": [
    "# Numerical columns are highly skewed\n",
    "\n",
    "plt.figure(figsize=(16,9))\n",
    "\n",
    "data.boxplot(column=[\"read_count_in_input_library\", \"read_count_in_output_library\"])\n",
    "plt.title('Distribution of read counts')\n",
    ";"
   ]
  },
  {
   "cell_type": "code",
   "execution_count": 14,
   "metadata": {},
   "outputs": [
    {
     "data": {
      "text/plain": [
       "''"
      ]
     },
     "execution_count": 14,
     "metadata": {},
     "output_type": "execute_result"
    },
    {
     "data": {
      "image/png": "[encoded data removed]",
      "text/plain": [
       "<Figure size 432x288 with 2 Axes>"
      ]
     },
     "metadata": {
      "needs_background": "light"
     },
     "output_type": "display_data"
    }
   ],
   "source": [
    "sns.heatmap(data.corr(), vmin=0, vmax=1)\n",
    "plt.title('Correlation between variables')\n",
    ";"
   ]
  },
  {
   "cell_type": "code",
   "execution_count": 15,
   "metadata": {},
   "outputs": [
    {
     "name": "stdout",
     "output_type": "stream",
     "text": [
      "Input library ratio of zeros: 0.31590288751616147\n",
      "Output library ratio of zeros: 0.6693578508834938\n"
     ]
    }
   ],
   "source": [
    "print(f'Input library ratio of zeros: {len(data[data[\"read_count_in_input_library\"] == 0]) / len(data)}')\n",
    "print(f'Output library ratio of zeros: {len(data[data[\"read_count_in_output_library\"] == 0]) / len(data)}')"
   ]
  },
  {
   "cell_type": "markdown",
   "metadata": {},
   "source": [
    "There's a significant amount of sequences that have not bound:\n",
    "- 31'6% in the input library\n",
    "- 66'9% in the output library\n"
   ]
  },
  {
   "cell_type": "markdown",
   "metadata": {},
   "source": [
    "## 2. Study\n",
    "\n"
   ]
  },
  {
   "cell_type": "code",
   "execution_count": 17,
   "metadata": {},
   "outputs": [
    {
     "data": {
      "text/html": [
       "<div>\n",
       "<style scoped>\n",
       "    .dataframe tbody tr th:only-of-type {\n",
       "        vertical-align: middle;\n",
       "    }\n",
       "\n",
       "    .dataframe tbody tr th {\n",
       "        vertical-align: top;\n",
       "    }\n",
       "\n",
       "    .dataframe thead th {\n",
       "        text-align: right;\n",
       "    }\n",
       "</style>\n",
       "<table border=\"1\" class=\"dataframe\">\n",
       "  <thead>\n",
       "    <tr style=\"text-align: right;\">\n",
       "      <th></th>\n",
       "      <th>sequence</th>\n",
       "      <th>read_count_in_input_library</th>\n",
       "      <th>read_count_in_output_library</th>\n",
       "      <th>length</th>\n",
       "      <th>prot</th>\n",
       "    </tr>\n",
       "  </thead>\n",
       "  <tbody>\n",
       "    <tr>\n",
       "      <th>100082</th>\n",
       "      <td>ATGAGCAAGGGCGAGGAGCTGTTCATCGGGATCGTGCCCGTCCTGA...</td>\n",
       "      <td>3160.0</td>\n",
       "      <td>2055.0</td>\n",
       "      <td>129</td>\n",
       "      <td>MSKGEELFIGIVPVLIEFDGDVHGHKFSVRGEFEGDADYGKLE</td>\n",
       "    </tr>\n",
       "    <tr>\n",
       "      <th>82611</th>\n",
       "      <td>ATGAGCAAGGGCGAGGAGCTGGTCATCGGGATCGTGCCCGTCCTGA...</td>\n",
       "      <td>2249.0</td>\n",
       "      <td>1023.0</td>\n",
       "      <td>129</td>\n",
       "      <td>MSKGEELVIGIVPVLIEFDGDVHGHKFSVRGEVEGDADYGKLE</td>\n",
       "    </tr>\n",
       "    <tr>\n",
       "      <th>68895</th>\n",
       "      <td>ATGAGCAAGGGCGAGGAGCTGCTCATCGGGATCGTGCCCGTCCTGA...</td>\n",
       "      <td>2241.0</td>\n",
       "      <td>1067.0</td>\n",
       "      <td>129</td>\n",
       "      <td>MSKGEELLIGIVPVLIEFDGDVHGHKFSVRGEFEGDADYGKLE</td>\n",
       "    </tr>\n",
       "    <tr>\n",
       "      <th>93693</th>\n",
       "      <td>ATGAGCAAGGGCGAGGAGCTGTGCATCGGGATCGTGCCCGTCCTGA...</td>\n",
       "      <td>2165.0</td>\n",
       "      <td>609.0</td>\n",
       "      <td>129</td>\n",
       "      <td>MSKGEELCIGIVPVLIEFDGDVHGHKFSVRGEVEGDADYGKLE</td>\n",
       "    </tr>\n",
       "    <tr>\n",
       "      <th>100073</th>\n",
       "      <td>ATGAGCAAGGGCGAGGAGCTGTTCATCGGGATCGTGCCCGTCCTGA...</td>\n",
       "      <td>2146.0</td>\n",
       "      <td>1241.0</td>\n",
       "      <td>129</td>\n",
       "      <td>MSKGEELFIGIVPVLIEFDGDVHGHKFSVRGECEGDADYGKLE</td>\n",
       "    </tr>\n",
       "    <tr>\n",
       "      <th>99011</th>\n",
       "      <td>ATGAGCAAGGGCGAGGAGCTGTTCATCGGGATCGTGCCCGTCCTGA...</td>\n",
       "      <td>2138.0</td>\n",
       "      <td>1129.0</td>\n",
       "      <td>129</td>\n",
       "      <td>MSKGEELFIGIVPVLIEGDGDVHGHKFSVRGEFEGDADYGKLE</td>\n",
       "    </tr>\n",
       "    <tr>\n",
       "      <th>100045</th>\n",
       "      <td>ATGAGCAAGGGCGAGGAGCTGTTCATCGGGATCGTGCCCGTCCTGA...</td>\n",
       "      <td>2121.0</td>\n",
       "      <td>711.0</td>\n",
       "      <td>129</td>\n",
       "      <td>MSKGEELFIGIVPVLIEFDGDVHGHKFSVRGEVEGDADYGKLE</td>\n",
       "    </tr>\n",
       "    <tr>\n",
       "      <th>77682</th>\n",
       "      <td>ATGAGCAAGGGCGAGGAGCTGGGCATCGGGATCGTGCCCGTCCTGA...</td>\n",
       "      <td>2077.0</td>\n",
       "      <td>1005.0</td>\n",
       "      <td>129</td>\n",
       "      <td>MSKGEELGIGIVPVLIEFDGDVHGHKFSVRGEFEGDADYGKLE</td>\n",
       "    </tr>\n",
       "    <tr>\n",
       "      <th>99768</th>\n",
       "      <td>ATGAGCAAGGGCGAGGAGCTGTTCATCGGGATCGTGCCCGTCCTGA...</td>\n",
       "      <td>2059.0</td>\n",
       "      <td>1356.0</td>\n",
       "      <td>129</td>\n",
       "      <td>MSKGEELFIGIVPVLIECDGDVHGHKFSVRGEFEGDADYGKLE</td>\n",
       "    </tr>\n",
       "    <tr>\n",
       "      <th>99236</th>\n",
       "      <td>ATGAGCAAGGGCGAGGAGCTGTTCATCGGGATCGTGCCCGTCCTGA...</td>\n",
       "      <td>2049.0</td>\n",
       "      <td>1069.0</td>\n",
       "      <td>129</td>\n",
       "      <td>MSKGEELFIGIVPVLIEVDGDVHGHKFSVRGEFEGDADYGKLE</td>\n",
       "    </tr>\n",
       "    <tr>\n",
       "      <th>82636</th>\n",
       "      <td>ATGAGCAAGGGCGAGGAGCTGGTCATCGGGATCGTGCCCGTCCTGA...</td>\n",
       "      <td>1987.0</td>\n",
       "      <td>2043.0</td>\n",
       "      <td>129</td>\n",
       "      <td>MSKGEELVIGIVPVLIEFDGDVHGHKFSVRGECEGDADYGKLE</td>\n",
       "    </tr>\n",
       "    <tr>\n",
       "      <th>99220</th>\n",
       "      <td>ATGAGCAAGGGCGAGGAGCTGTTCATCGGGATCGTGCCCGTCCTGA...</td>\n",
       "      <td>1985.0</td>\n",
       "      <td>1367.0</td>\n",
       "      <td>129</td>\n",
       "      <td>MSKGEELFIGIVPVLIEVDGDVHGHKFSVRGESEGDADYGKLE</td>\n",
       "    </tr>\n",
       "    <tr>\n",
       "      <th>93715</th>\n",
       "      <td>ATGAGCAAGGGCGAGGAGCTGTGCATCGGGATCGTGCCCGTCCTGA...</td>\n",
       "      <td>1914.0</td>\n",
       "      <td>834.0</td>\n",
       "      <td>129</td>\n",
       "      <td>MSKGEELCIGIVPVLIEFDGDVHGHKFSVRGECEGDADYGKLE</td>\n",
       "    </tr>\n",
       "    <tr>\n",
       "      <th>89002</th>\n",
       "      <td>ATGAGCAAGGGCGAGGAGCTGTCCATCGGGATCGTGCCCGTCCTGA...</td>\n",
       "      <td>1908.0</td>\n",
       "      <td>596.0</td>\n",
       "      <td>129</td>\n",
       "      <td>MSKGEELSIGIVPVLIEFDGDVHGHKFSVRGEFEGDADYGKLE</td>\n",
       "    </tr>\n",
       "    <tr>\n",
       "      <th>93726</th>\n",
       "      <td>ATGAGCAAGGGCGAGGAGCTGTGCATCGGGATCGTGCCCGTCCTGA...</td>\n",
       "      <td>1892.0</td>\n",
       "      <td>1197.0</td>\n",
       "      <td>129</td>\n",
       "      <td>MSKGEELCIGIVPVLIEFDGDVHGHKFSVRGEFEGDADYGKLE</td>\n",
       "    </tr>\n",
       "    <tr>\n",
       "      <th>82025</th>\n",
       "      <td>ATGAGCAAGGGCGAGGAGCTGGTCATCGGGATCGTGCCCGTCCTGA...</td>\n",
       "      <td>1853.0</td>\n",
       "      <td>700.0</td>\n",
       "      <td>129</td>\n",
       "      <td>MSKGEELVIGIVPVLIEVDGDVHGHKFSVRGEFEGDADYGKLE</td>\n",
       "    </tr>\n",
       "    <tr>\n",
       "      <th>98989</th>\n",
       "      <td>ATGAGCAAGGGCGAGGAGCTGTTCATCGGGATCGTGCCCGTCCTGA...</td>\n",
       "      <td>1846.0</td>\n",
       "      <td>670.0</td>\n",
       "      <td>129</td>\n",
       "      <td>MSKGEELFIGIVPVLIEGDGDVHGHKFSVRGEVEGDADYGKLE</td>\n",
       "    </tr>\n",
       "    <tr>\n",
       "      <th>99002</th>\n",
       "      <td>ATGAGCAAGGGCGAGGAGCTGTTCATCGGGATCGTGCCCGTCCTGA...</td>\n",
       "      <td>1805.0</td>\n",
       "      <td>1622.0</td>\n",
       "      <td>129</td>\n",
       "      <td>MSKGEELFIGIVPVLIEGDGDVHGHKFSVRGECEGDADYGKLE</td>\n",
       "    </tr>\n",
       "    <tr>\n",
       "      <th>99193</th>\n",
       "      <td>ATGAGCAAGGGCGAGGAGCTGTTCATCGGGATCGTGCCCGTCCTGA...</td>\n",
       "      <td>1784.0</td>\n",
       "      <td>1119.0</td>\n",
       "      <td>129</td>\n",
       "      <td>MSKGEELFIGIVPVLIEVDGDVHGHKFSVRGELEGDADYGKLE</td>\n",
       "    </tr>\n",
       "    <tr>\n",
       "      <th>82646</th>\n",
       "      <td>ATGAGCAAGGGCGAGGAGCTGGTCATCGGGATCGTGCCCGTCCTGA...</td>\n",
       "      <td>1713.0</td>\n",
       "      <td>610.0</td>\n",
       "      <td>129</td>\n",
       "      <td>MSKGEELVIGIVPVLIEFDGDVHGHKFSVRGEFEGDADYGKLE</td>\n",
       "    </tr>\n",
       "  </tbody>\n",
       "</table>\n",
       "</div>"
      ],
      "text/plain": [
       "                                                 sequence  \\\n",
       "100082  ATGAGCAAGGGCGAGGAGCTGTTCATCGGGATCGTGCCCGTCCTGA...   \n",
       "82611   ATGAGCAAGGGCGAGGAGCTGGTCATCGGGATCGTGCCCGTCCTGA...   \n",
       "68895   ATGAGCAAGGGCGAGGAGCTGCTCATCGGGATCGTGCCCGTCCTGA...   \n",
       "93693   ATGAGCAAGGGCGAGGAGCTGTGCATCGGGATCGTGCCCGTCCTGA...   \n",
       "100073  ATGAGCAAGGGCGAGGAGCTGTTCATCGGGATCGTGCCCGTCCTGA...   \n",
       "99011   ATGAGCAAGGGCGAGGAGCTGTTCATCGGGATCGTGCCCGTCCTGA...   \n",
       "100045  ATGAGCAAGGGCGAGGAGCTGTTCATCGGGATCGTGCCCGTCCTGA...   \n",
       "77682   ATGAGCAAGGGCGAGGAGCTGGGCATCGGGATCGTGCCCGTCCTGA...   \n",
       "99768   ATGAGCAAGGGCGAGGAGCTGTTCATCGGGATCGTGCCCGTCCTGA...   \n",
       "99236   ATGAGCAAGGGCGAGGAGCTGTTCATCGGGATCGTGCCCGTCCTGA...   \n",
       "82636   ATGAGCAAGGGCGAGGAGCTGGTCATCGGGATCGTGCCCGTCCTGA...   \n",
       "99220   ATGAGCAAGGGCGAGGAGCTGTTCATCGGGATCGTGCCCGTCCTGA...   \n",
       "93715   ATGAGCAAGGGCGAGGAGCTGTGCATCGGGATCGTGCCCGTCCTGA...   \n",
       "89002   ATGAGCAAGGGCGAGGAGCTGTCCATCGGGATCGTGCCCGTCCTGA...   \n",
       "93726   ATGAGCAAGGGCGAGGAGCTGTGCATCGGGATCGTGCCCGTCCTGA...   \n",
       "82025   ATGAGCAAGGGCGAGGAGCTGGTCATCGGGATCGTGCCCGTCCTGA...   \n",
       "98989   ATGAGCAAGGGCGAGGAGCTGTTCATCGGGATCGTGCCCGTCCTGA...   \n",
       "99002   ATGAGCAAGGGCGAGGAGCTGTTCATCGGGATCGTGCCCGTCCTGA...   \n",
       "99193   ATGAGCAAGGGCGAGGAGCTGTTCATCGGGATCGTGCCCGTCCTGA...   \n",
       "82646   ATGAGCAAGGGCGAGGAGCTGGTCATCGGGATCGTGCCCGTCCTGA...   \n",
       "\n",
       "        read_count_in_input_library  read_count_in_output_library  length  \\\n",
       "100082                       3160.0                        2055.0     129   \n",
       "82611                        2249.0                        1023.0     129   \n",
       "68895                        2241.0                        1067.0     129   \n",
       "93693                        2165.0                         609.0     129   \n",
       "100073                       2146.0                        1241.0     129   \n",
       "99011                        2138.0                        1129.0     129   \n",
       "100045                       2121.0                         711.0     129   \n",
       "77682                        2077.0                        1005.0     129   \n",
       "99768                        2059.0                        1356.0     129   \n",
       "99236                        2049.0                        1069.0     129   \n",
       "82636                        1987.0                        2043.0     129   \n",
       "99220                        1985.0                        1367.0     129   \n",
       "93715                        1914.0                         834.0     129   \n",
       "89002                        1908.0                         596.0     129   \n",
       "93726                        1892.0                        1197.0     129   \n",
       "82025                        1853.0                         700.0     129   \n",
       "98989                        1846.0                         670.0     129   \n",
       "99002                        1805.0                        1622.0     129   \n",
       "99193                        1784.0                        1119.0     129   \n",
       "82646                        1713.0                         610.0     129   \n",
       "\n",
       "                                               prot  \n",
       "100082  MSKGEELFIGIVPVLIEFDGDVHGHKFSVRGEFEGDADYGKLE  \n",
       "82611   MSKGEELVIGIVPVLIEFDGDVHGHKFSVRGEVEGDADYGKLE  \n",
       "68895   MSKGEELLIGIVPVLIEFDGDVHGHKFSVRGEFEGDADYGKLE  \n",
       "93693   MSKGEELCIGIVPVLIEFDGDVHGHKFSVRGEVEGDADYGKLE  \n",
       "100073  MSKGEELFIGIVPVLIEFDGDVHGHKFSVRGECEGDADYGKLE  \n",
       "99011   MSKGEELFIGIVPVLIEGDGDVHGHKFSVRGEFEGDADYGKLE  \n",
       "100045  MSKGEELFIGIVPVLIEFDGDVHGHKFSVRGEVEGDADYGKLE  \n",
       "77682   MSKGEELGIGIVPVLIEFDGDVHGHKFSVRGEFEGDADYGKLE  \n",
       "99768   MSKGEELFIGIVPVLIECDGDVHGHKFSVRGEFEGDADYGKLE  \n",
       "99236   MSKGEELFIGIVPVLIEVDGDVHGHKFSVRGEFEGDADYGKLE  \n",
       "82636   MSKGEELVIGIVPVLIEFDGDVHGHKFSVRGECEGDADYGKLE  \n",
       "99220   MSKGEELFIGIVPVLIEVDGDVHGHKFSVRGESEGDADYGKLE  \n",
       "93715   MSKGEELCIGIVPVLIEFDGDVHGHKFSVRGECEGDADYGKLE  \n",
       "89002   MSKGEELSIGIVPVLIEFDGDVHGHKFSVRGEFEGDADYGKLE  \n",
       "93726   MSKGEELCIGIVPVLIEFDGDVHGHKFSVRGEFEGDADYGKLE  \n",
       "82025   MSKGEELVIGIVPVLIEVDGDVHGHKFSVRGEFEGDADYGKLE  \n",
       "98989   MSKGEELFIGIVPVLIEGDGDVHGHKFSVRGEVEGDADYGKLE  \n",
       "99002   MSKGEELFIGIVPVLIEGDGDVHGHKFSVRGECEGDADYGKLE  \n",
       "99193   MSKGEELFIGIVPVLIEVDGDVHGHKFSVRGELEGDADYGKLE  \n",
       "82646   MSKGEELVIGIVPVLIEFDGDVHGHKFSVRGEFEGDADYGKLE  "
      ]
     },
     "execution_count": 17,
     "metadata": {},
     "output_type": "execute_result"
    }
   ],
   "source": [
    "sorted_data = data.sort_values([\"read_count_in_input_library\", \"read_count_in_output_library\"], ascending=[False, False])\n",
    "\n",
    "sorted_data.head(20)"
   ]
  },
  {
   "cell_type": "markdown",
   "metadata": {},
   "source": [
    "### 3.1 K-Means Clustering"
   ]
  },
  {
   "cell_type": "markdown",
   "metadata": {},
   "source": [
    "- Make clusters and see distributions\n",
    "- See similarities/patterns in sequence between high binding affinities / not binding well\n",
    "\n",
    "fuzzy: distribution of distances are random? word2vec\n",
    "    \n",
    "    substring / string statistical analysis\n"
   ]
  },
  {
   "cell_type": "code",
   "execution_count": 18,
   "metadata": {},
   "outputs": [
    {
     "name": "stdout",
     "output_type": "stream",
     "text": [
      "[[2.13672109e+00 6.87505457e-01 1.29000856e+02]\n",
      " [1.00915900e+03 5.51410042e+02 1.29000000e+02]\n",
      " [2.47996484e+02 1.50894023e+02 1.29000502e+02]]\n"
     ]
    },
    {
     "data": {
      "image/png": "[encoded data removed]",
      "text/plain": [
       "<Figure size 432x288 with 1 Axes>"
      ]
     },
     "metadata": {
      "needs_background": "light"
     },
     "output_type": "display_data"
    },
    {
     "data": {
      "text/plain": [
       "''"
      ]
     },
     "execution_count": 18,
     "metadata": {},
     "output_type": "execute_result"
    }
   ],
   "source": [
    "from sklearn.cluster import KMeans\n",
    "\n",
    "X = sorted_data.drop([\"sequence\", \"prot\"], axis=1)\n",
    "y = sorted_data[\"sequence\"]\n",
    "\n",
    "kmeans = KMeans(n_clusters=3).fit(X)\n",
    "centroids = kmeans.cluster_centers_\n",
    "print(centroids)\n",
    "\n",
    "plt.scatter(X[\"read_count_in_input_library\"], X[\"read_count_in_output_library\"], c= kmeans.labels_.astype(float), s=50, alpha=0.5)\n",
    "plt.scatter(centroids[:, 0], centroids[:, 1], c='red', s=50)\n",
    "plt.title('K-Means clusters')\n",
    "plt.show()"
   ]
  },
  {
   "cell_type": "code",
   "execution_count": 19,
   "metadata": {},
   "outputs": [],
   "source": [
    "sorted_data[\"clusters\"] = kmeans.labels_"
   ]
  },
  {
   "cell_type": "code",
   "execution_count": 20,
   "metadata": {},
   "outputs": [
    {
     "data": {
      "text/html": [
       "<div>\n",
       "<style scoped>\n",
       "    .dataframe tbody tr th:only-of-type {\n",
       "        vertical-align: middle;\n",
       "    }\n",
       "\n",
       "    .dataframe tbody tr th {\n",
       "        vertical-align: top;\n",
       "    }\n",
       "\n",
       "    .dataframe thead th {\n",
       "        text-align: right;\n",
       "    }\n",
       "</style>\n",
       "<table border=\"1\" class=\"dataframe\">\n",
       "  <thead>\n",
       "    <tr style=\"text-align: right;\">\n",
       "      <th></th>\n",
       "      <th>sequence</th>\n",
       "      <th>read_count_in_input_library</th>\n",
       "      <th>read_count_in_output_library</th>\n",
       "      <th>length</th>\n",
       "      <th>prot</th>\n",
       "      <th>clusters</th>\n",
       "    </tr>\n",
       "  </thead>\n",
       "  <tbody>\n",
       "    <tr>\n",
       "      <th>100082</th>\n",
       "      <td>ATGAGCAAGGGCGAGGAGCTGTTCATCGGGATCGTGCCCGTCCTGA...</td>\n",
       "      <td>3160.0</td>\n",
       "      <td>2055.0</td>\n",
       "      <td>129</td>\n",
       "      <td>MSKGEELFIGIVPVLIEFDGDVHGHKFSVRGEFEGDADYGKLE</td>\n",
       "      <td>1</td>\n",
       "    </tr>\n",
       "    <tr>\n",
       "      <th>82611</th>\n",
       "      <td>ATGAGCAAGGGCGAGGAGCTGGTCATCGGGATCGTGCCCGTCCTGA...</td>\n",
       "      <td>2249.0</td>\n",
       "      <td>1023.0</td>\n",
       "      <td>129</td>\n",
       "      <td>MSKGEELVIGIVPVLIEFDGDVHGHKFSVRGEVEGDADYGKLE</td>\n",
       "      <td>1</td>\n",
       "    </tr>\n",
       "    <tr>\n",
       "      <th>68895</th>\n",
       "      <td>ATGAGCAAGGGCGAGGAGCTGCTCATCGGGATCGTGCCCGTCCTGA...</td>\n",
       "      <td>2241.0</td>\n",
       "      <td>1067.0</td>\n",
       "      <td>129</td>\n",
       "      <td>MSKGEELLIGIVPVLIEFDGDVHGHKFSVRGEFEGDADYGKLE</td>\n",
       "      <td>1</td>\n",
       "    </tr>\n",
       "    <tr>\n",
       "      <th>93693</th>\n",
       "      <td>ATGAGCAAGGGCGAGGAGCTGTGCATCGGGATCGTGCCCGTCCTGA...</td>\n",
       "      <td>2165.0</td>\n",
       "      <td>609.0</td>\n",
       "      <td>129</td>\n",
       "      <td>MSKGEELCIGIVPVLIEFDGDVHGHKFSVRGEVEGDADYGKLE</td>\n",
       "      <td>1</td>\n",
       "    </tr>\n",
       "    <tr>\n",
       "      <th>100073</th>\n",
       "      <td>ATGAGCAAGGGCGAGGAGCTGTTCATCGGGATCGTGCCCGTCCTGA...</td>\n",
       "      <td>2146.0</td>\n",
       "      <td>1241.0</td>\n",
       "      <td>129</td>\n",
       "      <td>MSKGEELFIGIVPVLIEFDGDVHGHKFSVRGECEGDADYGKLE</td>\n",
       "      <td>1</td>\n",
       "    </tr>\n",
       "    <tr>\n",
       "      <th>...</th>\n",
       "      <td>...</td>\n",
       "      <td>...</td>\n",
       "      <td>...</td>\n",
       "      <td>...</td>\n",
       "      <td>...</td>\n",
       "      <td>...</td>\n",
       "    </tr>\n",
       "    <tr>\n",
       "      <th>174011</th>\n",
       "      <td>TTTAGCTAGGGAGTGGAGGTGTTCATCGGGATCGTGCCCGTCCTGC...</td>\n",
       "      <td>0.0</td>\n",
       "      <td>1.0</td>\n",
       "      <td>129</td>\n",
       "      <td>FS*GVEVFIGIVPVLLEGDGDIYGHKFSMRGEDEDDADCGKRH</td>\n",
       "      <td>0</td>\n",
       "    </tr>\n",
       "    <tr>\n",
       "      <th>174012</th>\n",
       "      <td>TTTAGCTAGGGCGAGGAGCTGACCGTCGGGATCGTACCCGTCCCGA...</td>\n",
       "      <td>0.0</td>\n",
       "      <td>1.0</td>\n",
       "      <td>129</td>\n",
       "      <td>FS*GEELTVGIVPVPNEWAGDVHGHKFSVRGGGEGDDDYGKLE</td>\n",
       "      <td>0</td>\n",
       "    </tr>\n",
       "    <tr>\n",
       "      <th>174014</th>\n",
       "      <td>TTTAGGAAGGGCGAGGAGCTTAACATCAGCATCGTGCCCGTCCTGA...</td>\n",
       "      <td>0.0</td>\n",
       "      <td>1.0</td>\n",
       "      <td>129</td>\n",
       "      <td>FRKGEELNISIVPVLIEPDRDVPSDRFSVCGEAEAGADYGKLE</td>\n",
       "      <td>0</td>\n",
       "    </tr>\n",
       "    <tr>\n",
       "      <th>174015</th>\n",
       "      <td>TTTAGTAAGCGCGAGTAGCTGTTCATCGGGATCGTGCCCGTCCTGA...</td>\n",
       "      <td>0.0</td>\n",
       "      <td>1.0</td>\n",
       "      <td>129</td>\n",
       "      <td>FSKRE*LFIGIVPVLIECYGDVHCHKFSVRGELEGDADHGKPE</td>\n",
       "      <td>0</td>\n",
       "    </tr>\n",
       "    <tr>\n",
       "      <th>174024</th>\n",
       "      <td>TTTTGCAAGGGCGAGGAGCTGCTTATCGGGATCGTGCCCGCCCTGA...</td>\n",
       "      <td>0.0</td>\n",
       "      <td>1.0</td>\n",
       "      <td>129</td>\n",
       "      <td>FCKGEELLIGIVPALTEVDGDLHGHKFGVRGECEGDADYGRLE</td>\n",
       "      <td>0</td>\n",
       "    </tr>\n",
       "  </tbody>\n",
       "</table>\n",
       "<p>174025 rows × 6 columns</p>\n",
       "</div>"
      ],
      "text/plain": [
       "                                                 sequence  \\\n",
       "100082  ATGAGCAAGGGCGAGGAGCTGTTCATCGGGATCGTGCCCGTCCTGA...   \n",
       "82611   ATGAGCAAGGGCGAGGAGCTGGTCATCGGGATCGTGCCCGTCCTGA...   \n",
       "68895   ATGAGCAAGGGCGAGGAGCTGCTCATCGGGATCGTGCCCGTCCTGA...   \n",
       "93693   ATGAGCAAGGGCGAGGAGCTGTGCATCGGGATCGTGCCCGTCCTGA...   \n",
       "100073  ATGAGCAAGGGCGAGGAGCTGTTCATCGGGATCGTGCCCGTCCTGA...   \n",
       "...                                                   ...   \n",
       "174011  TTTAGCTAGGGAGTGGAGGTGTTCATCGGGATCGTGCCCGTCCTGC...   \n",
       "174012  TTTAGCTAGGGCGAGGAGCTGACCGTCGGGATCGTACCCGTCCCGA...   \n",
       "174014  TTTAGGAAGGGCGAGGAGCTTAACATCAGCATCGTGCCCGTCCTGA...   \n",
       "174015  TTTAGTAAGCGCGAGTAGCTGTTCATCGGGATCGTGCCCGTCCTGA...   \n",
       "174024  TTTTGCAAGGGCGAGGAGCTGCTTATCGGGATCGTGCCCGCCCTGA...   \n",
       "\n",
       "        read_count_in_input_library  read_count_in_output_library  length  \\\n",
       "100082                       3160.0                        2055.0     129   \n",
       "82611                        2249.0                        1023.0     129   \n",
       "68895                        2241.0                        1067.0     129   \n",
       "93693                        2165.0                         609.0     129   \n",
       "100073                       2146.0                        1241.0     129   \n",
       "...                             ...                           ...     ...   \n",
       "174011                          0.0                           1.0     129   \n",
       "174012                          0.0                           1.0     129   \n",
       "174014                          0.0                           1.0     129   \n",
       "174015                          0.0                           1.0     129   \n",
       "174024                          0.0                           1.0     129   \n",
       "\n",
       "                                               prot  clusters  \n",
       "100082  MSKGEELFIGIVPVLIEFDGDVHGHKFSVRGEFEGDADYGKLE         1  \n",
       "82611   MSKGEELVIGIVPVLIEFDGDVHGHKFSVRGEVEGDADYGKLE         1  \n",
       "68895   MSKGEELLIGIVPVLIEFDGDVHGHKFSVRGEFEGDADYGKLE         1  \n",
       "93693   MSKGEELCIGIVPVLIEFDGDVHGHKFSVRGEVEGDADYGKLE         1  \n",
       "100073  MSKGEELFIGIVPVLIEFDGDVHGHKFSVRGECEGDADYGKLE         1  \n",
       "...                                             ...       ...  \n",
       "174011  FS*GVEVFIGIVPVLLEGDGDIYGHKFSMRGEDEDDADCGKRH         0  \n",
       "174012  FS*GEELTVGIVPVPNEWAGDVHGHKFSVRGGGEGDDDYGKLE         0  \n",
       "174014  FRKGEELNISIVPVLIEPDRDVPSDRFSVCGEAEAGADYGKLE         0  \n",
       "174015  FSKRE*LFIGIVPVLIECYGDVHCHKFSVRGELEGDADHGKPE         0  \n",
       "174024  FCKGEELLIGIVPALTEVDGDLHGHKFGVRGECEGDADYGRLE         0  \n",
       "\n",
       "[174025 rows x 6 columns]"
      ]
     },
     "execution_count": 20,
     "metadata": {},
     "output_type": "execute_result"
    }
   ],
   "source": [
    "sorted_data"
   ]
  },
  {
   "cell_type": "markdown",
   "metadata": {},
   "source": [
    "**When sorted, you can see that the sequence is much more similar to the reference sequence. Let's see the differences.**"
   ]
  },
  {
   "cell_type": "markdown",
   "metadata": {},
   "source": [
    "### 3.2 Differences between high-binding affinity and low-binding affinity"
   ]
  },
  {
   "cell_type": "code",
   "execution_count": 21,
   "metadata": {},
   "outputs": [],
   "source": [
    "high = sorted_data[sorted_data[\"clusters\"] == 1]\n",
    "low = sorted_data[sorted_data[\"clusters\"] == 0]\n",
    "medium = sorted_data[sorted_data[\"clusters\"] == 2]\n"
   ]
  },
  {
   "cell_type": "code",
   "execution_count": 23,
   "metadata": {},
   "outputs": [
    {
     "data": {
      "text/html": [
       "<div>\n",
       "<style scoped>\n",
       "    .dataframe tbody tr th:only-of-type {\n",
       "        vertical-align: middle;\n",
       "    }\n",
       "\n",
       "    .dataframe tbody tr th {\n",
       "        vertical-align: top;\n",
       "    }\n",
       "\n",
       "    .dataframe thead th {\n",
       "        text-align: right;\n",
       "    }\n",
       "</style>\n",
       "<table border=\"1\" class=\"dataframe\">\n",
       "  <thead>\n",
       "    <tr style=\"text-align: right;\">\n",
       "      <th></th>\n",
       "      <th>sequence</th>\n",
       "      <th>read_count_in_input_library</th>\n",
       "      <th>read_count_in_output_library</th>\n",
       "      <th>length</th>\n",
       "      <th>prot</th>\n",
       "      <th>clusters</th>\n",
       "    </tr>\n",
       "  </thead>\n",
       "  <tbody>\n",
       "    <tr>\n",
       "      <th>88443</th>\n",
       "      <td>ATGAGCAAGGGCGAGGAGCTGTCCATCGGGATCGTGCCCGTCCTGA...</td>\n",
       "      <td>743.0</td>\n",
       "      <td>32.0</td>\n",
       "      <td>129</td>\n",
       "      <td>MSKGEELSIGIVPVLIEGDGDVHGHKFSVRGEFEGDADYGKLE</td>\n",
       "      <td>2</td>\n",
       "    </tr>\n",
       "    <tr>\n",
       "      <th>93708</th>\n",
       "      <td>ATGAGCAAGGGCGAGGAGCTGTGCATCGGGATCGTGCCCGTCCTGA...</td>\n",
       "      <td>726.0</td>\n",
       "      <td>134.0</td>\n",
       "      <td>129</td>\n",
       "      <td>MSKGEELCIGIVPVLIEFDGDVHGHKFSVRGESEGDADYGKLE</td>\n",
       "      <td>2</td>\n",
       "    </tr>\n",
       "    <tr>\n",
       "      <th>82405</th>\n",
       "      <td>ATGAGCAAGGGCGAGGAGCTGGTCATCGGGATCGTGCCCGTCCTGA...</td>\n",
       "      <td>710.0</td>\n",
       "      <td>135.0</td>\n",
       "      <td>129</td>\n",
       "      <td>MSKGEELVIGIVPVLIECDGDVHGHKFSVRGEAEGDADYGKLE</td>\n",
       "      <td>2</td>\n",
       "    </tr>\n",
       "    <tr>\n",
       "      <th>86053</th>\n",
       "      <td>ATGAGCAAGGGCGAGGAGCTGTACATCGGGATCGTGCCCGTCCTGA...</td>\n",
       "      <td>704.0</td>\n",
       "      <td>0.0</td>\n",
       "      <td>129</td>\n",
       "      <td>MSKGEELYIGIVPVLIEFDGDVHGHKFSVRGEFEGDADYGKLE</td>\n",
       "      <td>2</td>\n",
       "    </tr>\n",
       "    <tr>\n",
       "      <th>88543</th>\n",
       "      <td>ATGAGCAAGGGCGAGGAGCTGTCCATCGGGATCGTGCCCGTCCTGA...</td>\n",
       "      <td>692.0</td>\n",
       "      <td>0.0</td>\n",
       "      <td>129</td>\n",
       "      <td>MSKGEELSIGIVPVLIEVDGDVHGHKFSVRGELEGDADYGKLE</td>\n",
       "      <td>2</td>\n",
       "    </tr>\n",
       "  </tbody>\n",
       "</table>\n",
       "</div>"
      ],
      "text/plain": [
       "                                                sequence  \\\n",
       "88443  ATGAGCAAGGGCGAGGAGCTGTCCATCGGGATCGTGCCCGTCCTGA...   \n",
       "93708  ATGAGCAAGGGCGAGGAGCTGTGCATCGGGATCGTGCCCGTCCTGA...   \n",
       "82405  ATGAGCAAGGGCGAGGAGCTGGTCATCGGGATCGTGCCCGTCCTGA...   \n",
       "86053  ATGAGCAAGGGCGAGGAGCTGTACATCGGGATCGTGCCCGTCCTGA...   \n",
       "88543  ATGAGCAAGGGCGAGGAGCTGTCCATCGGGATCGTGCCCGTCCTGA...   \n",
       "\n",
       "       read_count_in_input_library  read_count_in_output_library  length  \\\n",
       "88443                        743.0                          32.0     129   \n",
       "93708                        726.0                         134.0     129   \n",
       "82405                        710.0                         135.0     129   \n",
       "86053                        704.0                           0.0     129   \n",
       "88543                        692.0                           0.0     129   \n",
       "\n",
       "                                              prot  clusters  \n",
       "88443  MSKGEELSIGIVPVLIEGDGDVHGHKFSVRGEFEGDADYGKLE         2  \n",
       "93708  MSKGEELCIGIVPVLIEFDGDVHGHKFSVRGESEGDADYGKLE         2  \n",
       "82405  MSKGEELVIGIVPVLIECDGDVHGHKFSVRGEAEGDADYGKLE         2  \n",
       "86053  MSKGEELYIGIVPVLIEFDGDVHGHKFSVRGEFEGDADYGKLE         2  \n",
       "88543  MSKGEELSIGIVPVLIEVDGDVHGHKFSVRGELEGDADYGKLE         2  "
      ]
     },
     "execution_count": 23,
     "metadata": {},
     "output_type": "execute_result"
    }
   ],
   "source": []
  },
  {
   "cell_type": "code",
   "execution_count": null,
   "metadata": {},
   "outputs": [],
   "source": []
  }
 ],
 "metadata": {
  "kernelspec": {
   "display_name": "Python 3",
   "language": "python",
   "name": "python3"
  },
  "language_info": {
   "codemirror_mode": {
    "name": "ipython",
    "version": 3
   },
   "file_extension": ".py",
   "mimetype": "text/x-python",
   "name": "python",
   "nbconvert_exporter": "python",
   "pygments_lexer": "ipython3",
   "version": "3.8.3"
  }
 },
 "nbformat": 4,
 "nbformat_minor": 4
}
